{
 "cells": [
  {
   "cell_type": "code",
   "execution_count": 36,
   "metadata": {},
   "outputs": [],
   "source": [
    "%reload_ext autoreload\n",
    "%autoreload 2\n",
    "from utils import load_translate_from_csv\n",
    "import logging\n",
    "import time\n",
    "\n",
    "import numpy as np\n",
    "import matplotlib.pyplot as plt\n",
    "\n",
    "import tensorflow_datasets as tfds\n",
    "import tensorflow as tf\n",
    "\n",
    "import tensorflow_text\n"
   ]
  },
  {
   "cell_type": "code",
   "execution_count": 37,
   "metadata": {},
   "outputs": [],
   "source": [
    "examples= load_translate_from_csv('./data/fr_to_adj.csv')\n",
    "\n",
    "train_examples, val_examples = examples['train'], examples['validation']"
   ]
  },
  {
   "cell_type": "code",
   "execution_count": 3,
   "metadata": {},
   "outputs": [
    {
     "name": "stdout",
     "output_type": "stream",
     "text": [
      "> Examples in French:\n",
      "caisse\n",
      "coffre\n",
      "grenier\n",
      "\n",
      "> Examples in Adja:\n",
      "daka\n",
      "daka \n",
      "ava \n"
     ]
    },
    {
     "name": "stderr",
     "output_type": "stream",
     "text": [
      "2024-05-31 22:16:05.668962: W tensorflow/core/framework/local_rendezvous.cc:404] Local rendezvous is aborting with status: OUT_OF_RANGE: End of sequence\n"
     ]
    }
   ],
   "source": [
    "for fr_examples, aj_examples in train_examples.batch(3).take(1):\n",
    "  print('> Examples in French:')\n",
    "  for fr in fr_examples.numpy():\n",
    "    print(fr.decode('utf-8'))\n",
    "  print()\n",
    "\n",
    "  print('> Examples in Adja:')\n",
    "  for aj in aj_examples.numpy():\n",
    "    print(aj.decode('utf-8'))\n"
   ]
  },
  {
   "cell_type": "code",
   "execution_count": 4,
   "metadata": {},
   "outputs": [],
   "source": [
    "model_name = 'data/translate_fr_aj_converter'\n",
    "tokenizers = tf.saved_model.load(model_name)"
   ]
  },
  {
   "cell_type": "code",
   "execution_count": 5,
   "metadata": {},
   "outputs": [
    {
     "data": {
      "text/plain": [
       "['detokenize',\n",
       " 'get_reserved_tokens',\n",
       " 'get_vocab_path',\n",
       " 'get_vocab_size',\n",
       " 'lookup',\n",
       " 'tokenize',\n",
       " 'tokenizer',\n",
       " 'vocab']"
      ]
     },
     "execution_count": 5,
     "metadata": {},
     "output_type": "execute_result"
    }
   ],
   "source": [
    "[item for item in dir(tokenizers.aj) if not item.startswith('_')]\n"
   ]
  },
  {
   "cell_type": "code",
   "execution_count": 6,
   "metadata": {},
   "outputs": [],
   "source": [
    "MAX_TOKENS=128\n",
    "def prepare_batch(fr, aj):\n",
    "    fr = tokenizers.fr.tokenize(fr)      # Output is ragged.\n",
    "    fr = fr[:, :MAX_TOKENS]    # Trim to MAX_TOKENS.\n",
    "    fr = fr.to_tensor()  # Convert to 0-padded dense Tensor\n",
    "\n",
    "    aj = tokenizers.aj.tokenize(aj)\n",
    "    aj = aj[:, :(MAX_TOKENS+1)]\n",
    "    aj_inputs = aj[:, :-1].to_tensor()  # Drop the [END] tokens\n",
    "    aj_labels = aj[:, 1:].to_tensor()   # Drop the [START] tokens\n",
    "\n",
    "    return (fr, aj_inputs), aj_labels\n"
   ]
  },
  {
   "cell_type": "code",
   "execution_count": 7,
   "metadata": {},
   "outputs": [],
   "source": [
    "BUFFER_SIZE = 2000\n",
    "BATCH_SIZE = 16\n"
   ]
  },
  {
   "cell_type": "code",
   "execution_count": 8,
   "metadata": {},
   "outputs": [],
   "source": [
    "def make_batches(ds):\n",
    "  return (\n",
    "      ds\n",
    "      .shuffle(BUFFER_SIZE)\n",
    "      .batch(BATCH_SIZE)\n",
    "      .map(prepare_batch, tf.data.AUTOTUNE)\n",
    "      .prefetch(buffer_size=tf.data.AUTOTUNE))\n"
   ]
  },
  {
   "cell_type": "code",
   "execution_count": 9,
   "metadata": {},
   "outputs": [],
   "source": [
    "# Create training and validation set batches.\n",
    "train_batches = make_batches(train_examples)\n",
    "val_batches = make_batches(val_examples)\n"
   ]
  },
  {
   "cell_type": "code",
   "execution_count": 10,
   "metadata": {},
   "outputs": [
    {
     "name": "stdout",
     "output_type": "stream",
     "text": [
      "(16, 25)\n",
      "(16, 21)\n",
      "(16, 21)\n"
     ]
    },
    {
     "name": "stderr",
     "output_type": "stream",
     "text": [
      "2024-05-31 22:16:06.605030: E tensorflow/core/util/util.cc:131] oneDNN supports DT_INT64 only on platforms with AVX-512. Falling back to the default Eigen-based implementation if present.\n"
     ]
    }
   ],
   "source": [
    "for (fr, aj), aj_labels in train_batches.take(1):\n",
    "  break\n",
    "\n",
    "print(fr.shape)\n",
    "print(aj.shape)\n",
    "print(aj_labels.shape)\n"
   ]
  },
  {
   "cell_type": "code",
   "execution_count": 11,
   "metadata": {},
   "outputs": [],
   "source": [
    "from  transformer.positional_encoding import PositionalEmbedding\n",
    "input_seq_length = 5  # Maximum length of the input sequence\n",
    "d_k = 64  # Dimensionality of the linearly projected queries and keys\n",
    "d_v = 64  # Dimensionality of the linearly projected values\n",
    "d_model = 512  # Dimensionality of the model sub-layers' outputs\n",
    "h = 8  # Number of self-attention heads\n",
    "d_ff = 2048"
   ]
  },
  {
   "cell_type": "code",
   "execution_count": 47,
   "metadata": {},
   "outputs": [],
   "source": [
    "embed_fr = PositionalEmbedding(vocab_size=tokenizers.fr.get_vocab_size().numpy(), sequence_length= MAX_TOKENS, d_model=d_model)\n",
    "embed_aj = PositionalEmbedding(vocab_size=tokenizers.aj.get_vocab_size().numpy(),sequence_length= MAX_TOKENS, d_model=d_model)\n",
    "\n",
    "fr_emb = embed_fr(fr)\n",
    "aj_emb = embed_aj(aj)\n"
   ]
  },
  {
   "cell_type": "code",
   "execution_count": 108,
   "metadata": {},
   "outputs": [
    {
     "data": {
      "text/plain": [
       "<matplotlib.colorbar.Colorbar at 0x7faf77dc8810>"
      ]
     },
     "execution_count": 108,
     "metadata": {},
     "output_type": "execute_result"
    },
    {
     "data": {
      "image/png": "[encoded data removed]",
      "text/plain": [
       "<Figure size 1600x200 with 2 Axes>"
      ]
     },
     "metadata": {},
     "output_type": "display_data"
    }
   ],
   "source": [
    "import matplotlib.pyplot as plt\n",
    "cax = plt.matshow(fr_emb[0,:])\n",
    "plt.gcf().colorbar(cax)"
   ]
  },
  {
   "cell_type": "code",
   "execution_count": 27,
   "metadata": {},
   "outputs": [
    {
     "name": "stdout",
     "output_type": "stream",
     "text": [
      "(16, 25, 512)\n",
      "(16, 21, 512)\n",
      "(16, 21, 512)\n"
     ]
    }
   ],
   "source": [
    "from transformer.base import CrossAttention\n",
    "\n",
    "\n",
    "sample_ca = CrossAttention(h=h, d_k=d_k, d_v=d_v, d_model=d_model)\n",
    "\n",
    "print(fr_emb.shape)\n",
    "print(aj_emb.shape)\n",
    "print(sample_ca(aj_emb, fr_emb).shape)\n"
   ]
  },
  {
   "cell_type": "code",
   "execution_count": 30,
   "metadata": {},
   "outputs": [
    {
     "name": "stdout",
     "output_type": "stream",
     "text": [
      "(16, 25, 512)\n",
      "(16, 25, 512)\n"
     ]
    }
   ],
   "source": [
    "from transformer.base import GlobalSelfAttention\n",
    "\n",
    "\n",
    "sample_gsa = GlobalSelfAttention(h=h, d_k=d_k, d_v=d_v, d_model=d_model)\n",
    "\n",
    "print(fr_emb.shape)\n",
    "print(sample_gsa(fr_emb).shape)"
   ]
  },
  {
   "cell_type": "code",
   "execution_count": 32,
   "metadata": {},
   "outputs": [
    {
     "name": "stdout",
     "output_type": "stream",
     "text": [
      "(16, 21, 512)\n",
      "(16, 21, 512)\n"
     ]
    }
   ],
   "source": [
    "from transformer.base import CausalSelfAttention\n",
    "\n",
    "\n",
    "sample_csa = CausalSelfAttention(h=h, d_k=d_k, d_v=d_v, d_model=d_model)\n",
    "\n",
    "print(aj_emb.shape)\n",
    "print(sample_csa(aj_emb).shape)\n"
   ]
  },
  {
   "cell_type": "code",
   "execution_count": 33,
   "metadata": {},
   "outputs": [
    {
     "name": "stdout",
     "output_type": "stream",
     "text": [
      "(16, 21, 512)\n",
      "(16, 21, 512)\n"
     ]
    }
   ],
   "source": [
    "from transformer.base import FeedForward\n",
    "\n",
    "\n",
    "sample_ffn = FeedForward(512, 2048)\n",
    "\n",
    "print(aj_emb.shape)\n",
    "print(sample_ffn(aj_emb).shape)\n"
   ]
  },
  {
   "cell_type": "code",
   "execution_count": 35,
   "metadata": {},
   "outputs": [
    {
     "name": "stdout",
     "output_type": "stream",
     "text": [
      "(16, 25, 512)\n",
      "(16, 25, 512)\n"
     ]
    }
   ],
   "source": [
    "from transformer.encoder import EncoderLayer\n",
    "\n",
    "\n",
    "sample_encoder_layer = EncoderLayer(h, d_k, d_v, d_model, d_ff)\n",
    "\n",
    "print(fr_emb.shape)\n",
    "print(sample_encoder_layer(fr_emb).shape)\n"
   ]
  },
  {
   "cell_type": "code",
   "execution_count": 39,
   "metadata": {},
   "outputs": [
    {
     "name": "stdout",
     "output_type": "stream",
     "text": [
      "(16, 25)\n",
      "(16, 25, 512)\n"
     ]
    }
   ],
   "source": [
    "# Instantiate the encoder.\n",
    "from transformer.encoder import Encoder\n",
    "\n",
    "\n",
    "sample_encoder = Encoder(4, tokenizers.fr.get_vocab_size().numpy(), MAX_TOKENS, h, d_k, d_v, d_model, d_ff)\n",
    "\n",
    "sample_encoder_output = sample_encoder(fr, training=False)\n",
    "\n",
    "# Print the shape.\n",
    "print(fr.shape)\n",
    "print(sample_encoder_output.shape)  # Shape `(batch_size, input_seq_len, d_model)`.\n"
   ]
  },
  {
   "cell_type": "code",
   "execution_count": 41,
   "metadata": {},
   "outputs": [
    {
     "name": "stdout",
     "output_type": "stream",
     "text": [
      "(16, 25, 512)\n",
      "(16, 21, 512)\n",
      "(16, 21, 512)\n"
     ]
    }
   ],
   "source": [
    "from transformer.decoder import DecoderLayer\n",
    "\n",
    "\n",
    "sample_decoder_layer = DecoderLayer(h, d_k, d_v, d_model, d_ff)\n",
    "\n",
    "sample_decoder_layer_output = sample_decoder_layer(x=aj_emb, values=fr_emb)\n",
    "\n",
    "print(fr_emb.shape)\n",
    "print(aj_emb.shape)\n",
    "print(sample_decoder_layer_output.shape)  # `(batch_size, seq_len, d_model)`"
   ]
  },
  {
   "cell_type": "code",
   "execution_count": 48,
   "metadata": {},
   "outputs": [
    {
     "name": "stdout",
     "output_type": "stream",
     "text": [
      "(16, 21)\n",
      "(16, 25, 512)\n",
      "(16, 21, 512)\n"
     ]
    }
   ],
   "source": [
    "# Instantiate the decoder.\n",
    "from transformer.decoder import Decoder\n",
    "\n",
    "\n",
    "sample_decoder = Decoder(4, tokenizers.aj.get_vocab_size().numpy(), MAX_TOKENS, h, d_k, d_v, d_model, d_ff)\n",
    "\n",
    "output = sample_decoder(x=aj,values=fr_emb)\n",
    "\n",
    "# Print the shapes.\n",
    "print(aj.shape)\n",
    "print(fr_emb.shape)\n",
    "print(output.shape)\n"
   ]
  },
  {
   "cell_type": "code",
   "execution_count": 76,
   "metadata": {},
   "outputs": [],
   "source": [
    "num_layers = 2\n",
    "d_model = 128\n",
    "d_ff = 512\n",
    "num_heads = 8\n",
    "dropout_rate = 0.1"
   ]
  },
  {
   "cell_type": "code",
   "execution_count": 77,
   "metadata": {},
   "outputs": [],
   "source": [
    "from transformer.transformer import Transformer\n",
    "\n",
    "\n",
    "transformer = Transformer(\n",
    "    num_layers=num_layers,\n",
    "    d_model=d_model,\n",
    "    h=num_heads,\n",
    "    d_k=d_k,\n",
    "    d_v=d_v,\n",
    "    d_ff=d_ff,\n",
    "    input_vocab_size=tokenizers.fr.get_vocab_size().numpy(),\n",
    "    output_vocab_size=tokenizers.aj.get_vocab_size().numpy(),\n",
    "    sequence_length=MAX_TOKENS,\n",
    "    dropout_rate=dropout_rate)\n"
   ]
  },
  {
   "cell_type": "code",
   "execution_count": 78,
   "metadata": {},
   "outputs": [
    {
     "name": "stdout",
     "output_type": "stream",
     "text": [
      "(16, 21)\n",
      "(16, 25)\n",
      "(16, 21, 242)\n"
     ]
    }
   ],
   "source": [
    "output = transformer((fr, aj))\n",
    "\n",
    "print(aj.shape)\n",
    "print(fr.shape)\n",
    "print(output.shape)\n"
   ]
  },
  {
   "cell_type": "code",
   "execution_count": 79,
   "metadata": {},
   "outputs": [
    {
     "data": {
      "text/html": [
       "<pre style=\"white-space:pre;overflow-x:auto;line-height:normal;font-family:Menlo,'DejaVu Sans Mono',consolas,'Courier New',monospace\"><span style=\"font-weight: bold\">Model: \"transformer_8\"</span>\n",
       "</pre>\n"
      ],
      "text/plain": [
       "\u001b[1mModel: \"transformer_8\"\u001b[0m\n"
      ]
     },
     "metadata": {},
     "output_type": "display_data"
    },
    {
     "data": {
      "text/html": [
       "<pre style=\"white-space:pre;overflow-x:auto;line-height:normal;font-family:Menlo,'DejaVu Sans Mono',consolas,'Courier New',monospace\">┏━━━━━━━━━━━━━━━━━━━━━━━━━━━━━━━━━┳━━━━━━━━━━━━━━━━━━━━━━━━┳━━━━━━━━━━━━━━━┓\n",
       "┃<span style=\"font-weight: bold\"> Layer (type)                    </span>┃<span style=\"font-weight: bold\"> Output Shape           </span>┃<span style=\"font-weight: bold\">       Param # </span>┃\n",
       "┡━━━━━━━━━━━━━━━━━━━━━━━━━━━━━━━━━╇━━━━━━━━━━━━━━━━━━━━━━━━╇━━━━━━━━━━━━━━━┩\n",
       "│ encoder_9 (<span style=\"color: #0087ff; text-decoration-color: #0087ff\">Encoder</span>)             │ ?                      │       <span style=\"color: #00af00; text-decoration-color: #00af00\">365,696</span> │\n",
       "├─────────────────────────────────┼────────────────────────┼───────────────┤\n",
       "│ decoder_11 (<span style=\"color: #0087ff; text-decoration-color: #0087ff\">Decoder</span>)            │ ?                      │       <span style=\"color: #00af00; text-decoration-color: #00af00\">428,288</span> │\n",
       "├─────────────────────────────────┼────────────────────────┼───────────────┤\n",
       "│ dense_871 (<span style=\"color: #0087ff; text-decoration-color: #0087ff\">Dense</span>)               │ ?                      │        <span style=\"color: #00af00; text-decoration-color: #00af00\">31,218</span> │\n",
       "└─────────────────────────────────┴────────────────────────┴───────────────┘\n",
       "</pre>\n"
      ],
      "text/plain": [
       "┏━━━━━━━━━━━━━━━━━━━━━━━━━━━━━━━━━┳━━━━━━━━━━━━━━━━━━━━━━━━┳━━━━━━━━━━━━━━━┓\n",
       "┃\u001b[1m \u001b[0m\u001b[1mLayer (type)                   \u001b[0m\u001b[1m \u001b[0m┃\u001b[1m \u001b[0m\u001b[1mOutput Shape          \u001b[0m\u001b[1m \u001b[0m┃\u001b[1m \u001b[0m\u001b[1m      Param #\u001b[0m\u001b[1m \u001b[0m┃\n",
       "┡━━━━━━━━━━━━━━━━━━━━━━━━━━━━━━━━━╇━━━━━━━━━━━━━━━━━━━━━━━━╇━━━━━━━━━━━━━━━┩\n",
       "│ encoder_9 (\u001b[38;5;33mEncoder\u001b[0m)             │ ?                      │       \u001b[38;5;34m365,696\u001b[0m │\n",
       "├─────────────────────────────────┼────────────────────────┼───────────────┤\n",
       "│ decoder_11 (\u001b[38;5;33mDecoder\u001b[0m)            │ ?                      │       \u001b[38;5;34m428,288\u001b[0m │\n",
       "├─────────────────────────────────┼────────────────────────┼───────────────┤\n",
       "│ dense_871 (\u001b[38;5;33mDense\u001b[0m)               │ ?                      │        \u001b[38;5;34m31,218\u001b[0m │\n",
       "└─────────────────────────────────┴────────────────────────┴───────────────┘\n"
      ]
     },
     "metadata": {},
     "output_type": "display_data"
    },
    {
     "data": {
      "text/html": [
       "<pre style=\"white-space:pre;overflow-x:auto;line-height:normal;font-family:Menlo,'DejaVu Sans Mono',consolas,'Courier New',monospace\"><span style=\"font-weight: bold\"> Total params: </span><span style=\"color: #00af00; text-decoration-color: #00af00\">825,202</span> (3.15 MB)\n",
       "</pre>\n"
      ],
      "text/plain": [
       "\u001b[1m Total params: \u001b[0m\u001b[38;5;34m825,202\u001b[0m (3.15 MB)\n"
      ]
     },
     "metadata": {},
     "output_type": "display_data"
    },
    {
     "data": {
      "text/html": [
       "<pre style=\"white-space:pre;overflow-x:auto;line-height:normal;font-family:Menlo,'DejaVu Sans Mono',consolas,'Courier New',monospace\"><span style=\"font-weight: bold\"> Trainable params: </span><span style=\"color: #00af00; text-decoration-color: #00af00\">825,202</span> (3.15 MB)\n",
       "</pre>\n"
      ],
      "text/plain": [
       "\u001b[1m Trainable params: \u001b[0m\u001b[38;5;34m825,202\u001b[0m (3.15 MB)\n"
      ]
     },
     "metadata": {},
     "output_type": "display_data"
    },
    {
     "data": {
      "text/html": [
       "<pre style=\"white-space:pre;overflow-x:auto;line-height:normal;font-family:Menlo,'DejaVu Sans Mono',consolas,'Courier New',monospace\"><span style=\"font-weight: bold\"> Non-trainable params: </span><span style=\"color: #00af00; text-decoration-color: #00af00\">0</span> (0.00 B)\n",
       "</pre>\n"
      ],
      "text/plain": [
       "\u001b[1m Non-trainable params: \u001b[0m\u001b[38;5;34m0\u001b[0m (0.00 B)\n"
      ]
     },
     "metadata": {},
     "output_type": "display_data"
    }
   ],
   "source": [
    "transformer.summary()"
   ]
  },
  {
   "cell_type": "code",
   "execution_count": 80,
   "metadata": {},
   "outputs": [],
   "source": [
    "from transformer.learning_rate import CustomSchedule\n",
    "\n",
    "\n",
    "learning_rate = CustomSchedule(d_model)\n",
    "\n",
    "optimizer = tf.keras.optimizers.Adam(learning_rate, beta_1=0.9, beta_2=0.98,\n",
    "                                     epsilon=1e-9)\n"
   ]
  },
  {
   "cell_type": "code",
   "execution_count": 81,
   "metadata": {},
   "outputs": [
    {
     "data": {
      "text/plain": [
       "Text(0.5, 0, 'Train Step')"
      ]
     },
     "execution_count": 81,
     "metadata": {},
     "output_type": "execute_result"
    },
    {
     "data": {
      "image/png": "[encoded data removed]",
      "text/plain": [
       "<Figure size 640x480 with 1 Axes>"
      ]
     },
     "metadata": {},
     "output_type": "display_data"
    }
   ],
   "source": [
    "plt.plot(learning_rate(tf.range(40000, dtype=tf.float32)))\n",
    "plt.ylabel('Learning Rate')\n",
    "plt.xlabel('Train Step')\n"
   ]
  },
  {
   "cell_type": "code",
   "execution_count": 82,
   "metadata": {},
   "outputs": [],
   "source": [
    "from transformer.loss_metrics import masked_accuracy, masked_loss\n",
    "\n",
    "\n",
    "transformer.compile(\n",
    "    loss=masked_loss,\n",
    "    optimizer=optimizer,\n",
    "    metrics=[masked_accuracy])\n"
   ]
  },
  {
   "cell_type": "code",
   "execution_count": 93,
   "metadata": {},
   "outputs": [
    {
     "name": "stdout",
     "output_type": "stream",
     "text": [
      "Epoch 1/20\n",
      "\u001b[1m132/132\u001b[0m \u001b[32m━━━━━━━━━━━━━━━━━━━━\u001b[0m\u001b[37m\u001b[0m \u001b[1m7s\u001b[0m 49ms/step - loss: 4.6729 - masked_accuracy: 0.2111 - val_loss: 4.1410 - val_masked_accuracy: 0.3187\n",
      "Epoch 2/20\n",
      "\u001b[1m132/132\u001b[0m \u001b[32m━━━━━━━━━━━━━━━━━━━━\u001b[0m\u001b[37m\u001b[0m \u001b[1m7s\u001b[0m 54ms/step - loss: 4.3343 - masked_accuracy: 0.2404 - val_loss: 3.9062 - val_masked_accuracy: 0.3255\n",
      "Epoch 3/20\n",
      "\u001b[1m132/132\u001b[0m \u001b[32m━━━━━━━━━━━━━━━━━━━━\u001b[0m\u001b[37m\u001b[0m \u001b[1m7s\u001b[0m 54ms/step - loss: 4.1859 - masked_accuracy: 0.2394 - val_loss: 3.7879 - val_masked_accuracy: 0.3165\n",
      "Epoch 4/20\n",
      "\u001b[1m132/132\u001b[0m \u001b[32m━━━━━━━━━━━━━━━━━━━━\u001b[0m\u001b[37m\u001b[0m \u001b[1m7s\u001b[0m 50ms/step - loss: 4.0441 - masked_accuracy: 0.2447 - val_loss: 3.5545 - val_masked_accuracy: 0.3318\n",
      "Epoch 5/20\n",
      "\u001b[1m132/132\u001b[0m \u001b[32m━━━━━━━━━━━━━━━━━━━━\u001b[0m\u001b[37m\u001b[0m \u001b[1m7s\u001b[0m 51ms/step - loss: 3.8300 - masked_accuracy: 0.2532 - val_loss: 3.3252 - val_masked_accuracy: 0.3386\n",
      "Epoch 6/20\n",
      "\u001b[1m132/132\u001b[0m \u001b[32m━━━━━━━━━━━━━━━━━━━━\u001b[0m\u001b[37m\u001b[0m \u001b[1m7s\u001b[0m 48ms/step - loss: 3.5574 - masked_accuracy: 0.2884 - val_loss: 3.0196 - val_masked_accuracy: 0.3972\n",
      "Epoch 7/20\n",
      "\u001b[1m132/132\u001b[0m \u001b[32m━━━━━━━━━━━━━━━━━━━━\u001b[0m\u001b[37m\u001b[0m \u001b[1m7s\u001b[0m 52ms/step - loss: 3.3781 - masked_accuracy: 0.3124 - val_loss: 2.9200 - val_masked_accuracy: 0.3801\n",
      "Epoch 8/20\n",
      "\u001b[1m132/132\u001b[0m \u001b[32m━━━━━━━━━━━━━━━━━━━━\u001b[0m\u001b[37m\u001b[0m \u001b[1m7s\u001b[0m 51ms/step - loss: 3.2918 - masked_accuracy: 0.3240 - val_loss: 2.7999 - val_masked_accuracy: 0.4162\n",
      "Epoch 9/20\n",
      "\u001b[1m132/132\u001b[0m \u001b[32m━━━━━━━━━━━━━━━━━━━━\u001b[0m\u001b[37m\u001b[0m \u001b[1m6s\u001b[0m 43ms/step - loss: 3.1210 - masked_accuracy: 0.3564 - val_loss: 2.5816 - val_masked_accuracy: 0.4661\n",
      "Epoch 10/20\n",
      "\u001b[1m132/132\u001b[0m \u001b[32m━━━━━━━━━━━━━━━━━━━━\u001b[0m\u001b[37m\u001b[0m \u001b[1m7s\u001b[0m 49ms/step - loss: 2.7954 - masked_accuracy: 0.4183 - val_loss: 2.0897 - val_masked_accuracy: 0.5657\n",
      "Epoch 11/20\n",
      "\u001b[1m132/132\u001b[0m \u001b[32m━━━━━━━━━━━━━━━━━━━━\u001b[0m\u001b[37m\u001b[0m \u001b[1m7s\u001b[0m 49ms/step - loss: 2.3621 - masked_accuracy: 0.5069 - val_loss: 1.8042 - val_masked_accuracy: 0.6307\n",
      "Epoch 12/20\n",
      "\u001b[1m132/132\u001b[0m \u001b[32m━━━━━━━━━━━━━━━━━━━━\u001b[0m\u001b[37m\u001b[0m \u001b[1m6s\u001b[0m 47ms/step - loss: 2.0045 - masked_accuracy: 0.5896 - val_loss: 1.0282 - val_masked_accuracy: 0.7795\n",
      "Epoch 13/20\n",
      "\u001b[1m132/132\u001b[0m \u001b[32m━━━━━━━━━━━━━━━━━━━━\u001b[0m\u001b[37m\u001b[0m \u001b[1m7s\u001b[0m 50ms/step - loss: 1.3660 - masked_accuracy: 0.7354 - val_loss: 0.7341 - val_masked_accuracy: 0.8650\n",
      "Epoch 14/20\n",
      "\u001b[1m132/132\u001b[0m \u001b[32m━━━━━━━━━━━━━━━━━━━━\u001b[0m\u001b[37m\u001b[0m \u001b[1m6s\u001b[0m 44ms/step - loss: 1.0918 - masked_accuracy: 0.7884 - val_loss: 0.3662 - val_masked_accuracy: 0.9366\n",
      "Epoch 15/20\n",
      "\u001b[1m132/132\u001b[0m \u001b[32m━━━━━━━━━━━━━━━━━━━━\u001b[0m\u001b[37m\u001b[0m \u001b[1m7s\u001b[0m 51ms/step - loss: 0.8449 - masked_accuracy: 0.8360 - val_loss: 0.2360 - val_masked_accuracy: 0.9555\n",
      "Epoch 16/20\n",
      "\u001b[1m132/132\u001b[0m \u001b[32m━━━━━━━━━━━━━━━━━━━━\u001b[0m\u001b[37m\u001b[0m \u001b[1m7s\u001b[0m 51ms/step - loss: 0.6093 - masked_accuracy: 0.8820 - val_loss: 0.2888 - val_masked_accuracy: 0.9421\n",
      "Epoch 17/20\n",
      "\u001b[1m132/132\u001b[0m \u001b[32m━━━━━━━━━━━━━━━━━━━━\u001b[0m\u001b[37m\u001b[0m \u001b[1m7s\u001b[0m 53ms/step - loss: 0.6972 - masked_accuracy: 0.8597 - val_loss: 0.1898 - val_masked_accuracy: 0.9617\n",
      "Epoch 18/20\n",
      "\u001b[1m132/132\u001b[0m \u001b[32m━━━━━━━━━━━━━━━━━━━━\u001b[0m\u001b[37m\u001b[0m \u001b[1m7s\u001b[0m 51ms/step - loss: 0.4119 - masked_accuracy: 0.9183 - val_loss: 0.2020 - val_masked_accuracy: 0.9638\n",
      "Epoch 19/20\n",
      "\u001b[1m132/132\u001b[0m \u001b[32m━━━━━━━━━━━━━━━━━━━━\u001b[0m\u001b[37m\u001b[0m \u001b[1m6s\u001b[0m 41ms/step - loss: 0.4501 - masked_accuracy: 0.9077 - val_loss: 0.2268 - val_masked_accuracy: 0.9528\n",
      "Epoch 20/20\n",
      "\u001b[1m132/132\u001b[0m \u001b[32m━━━━━━━━━━━━━━━━━━━━\u001b[0m\u001b[37m\u001b[0m \u001b[1m7s\u001b[0m 54ms/step - loss: 0.4179 - masked_accuracy: 0.9137 - val_loss: 0.1629 - val_masked_accuracy: 0.9661\n"
     ]
    },
    {
     "data": {
      "text/plain": [
       "<keras.src.callbacks.history.History at 0x7faf7c2e5e90>"
      ]
     },
     "execution_count": 93,
     "metadata": {},
     "output_type": "execute_result"
    }
   ],
   "source": [
    "transformer.fit(train_batches,\n",
    "                epochs=20,\n",
    "                validation_data=val_batches)\n"
   ]
  },
  {
   "cell_type": "code",
   "execution_count": 94,
   "metadata": {},
   "outputs": [],
   "source": [
    "from transformer.translator import Translator\n",
    "\n",
    "\n",
    "translator = Translator(tokenizers, transformer)"
   ]
  },
  {
   "cell_type": "code",
   "execution_count": 110,
   "metadata": {},
   "outputs": [
    {
     "name": "stdout",
     "output_type": "stream",
     "text": [
      "tf.Tensor([[  2  96  96  96 118   3]], shape=(1, 6), dtype=int64)\n",
      "tf.Tensor([b'[START]' b'##wu' b'##wu' b'##wu' b'##gu' b'[END]'], shape=(6,), dtype=string)\n",
      "Input:         : Il est capable de faire ce travail.\n",
      "Prediction     : [START]wuwuwugu\n",
      "Ground truth   : É sùn edɔ lɔ ji a wà.\n"
     ]
    }
   ],
   "source": [
    "from utils import print_translation\n",
    "\n",
    "\n",
    "sentence = 'Il est capable de faire ce travail.'\n",
    "ground_truth = 'É sùn edɔ lɔ ji a wà.'\n",
    "\n",
    "translated_text, translated_tokens = translator(tf.constant(sentence))\n",
    "print_translation(sentence, translated_text, ground_truth)\n"
   ]
  }
 ],
 "metadata": {
  "kernelspec": {
   "display_name": "tf",
   "language": "python",
   "name": "python3"
  },
  "language_info": {
   "codemirror_mode": {
    "name": "ipython",
    "version": 3
   },
   "file_extension": ".py",
   "mimetype": "text/x-python",
   "name": "python",
   "nbconvert_exporter": "python",
   "pygments_lexer": "ipython3",
   "version": "3.11.5"
  }
 },
 "nbformat": 4,
 "nbformat_minor": 2
}
